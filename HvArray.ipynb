{
 "cells": [
  {
   "cell_type": "code",
   "execution_count": 1,
   "metadata": {
    "collapsed": false
   },
   "outputs": [
    {
     "name": "stdout",
     "output_type": "stream",
     "text": [
      "Using matplotlib backend: Qt4Agg\n",
      "Populating the interactive namespace from numpy and matplotlib\n"
     ]
    }
   ],
   "source": [
    "\n",
    "%pylab"
   ]
  },
  {
   "cell_type": "code",
   "execution_count": 2,
   "metadata": {
    "collapsed": false
   },
   "outputs": [
    {
     "name": "stderr",
     "output_type": "stream",
     "text": [
      "/phys/users/tommeyer/Resources/miniconda/envs/HV/lib/python2.7/site-packages/IPython/kernel/__init__.py:13: ShimWarning: The `IPython.kernel` package has been deprecated. You should import from ipykernel or jupyter_client instead.\n",
      "  \"You should import from ipykernel or jupyter_client instead.\", ShimWarning)\n"
     ]
    }
   ],
   "source": [
    "import newHvArray as hv\n",
    "import iopro\n",
    "import numpy as np\n",
    "import itertools\n",
    "import array\n",
    "import ROOT\n",
    "import rootpy as rpy\n",
    "import root_numpy as rnp\n",
    "from datetime import datetime\n"
   ]
  },
  {
   "cell_type": "code",
   "execution_count": 3,
   "metadata": {
    "collapsed": true
   },
   "outputs": [],
   "source": [
    "np.set_printoptions(suppress=True, linewidth=100)"
   ]
  },
  {
   "cell_type": "code",
   "execution_count": 17,
   "metadata": {
    "collapsed": false
   },
   "outputs": [
    {
     "ename": "NameError",
     "evalue": "name 'valgrind' is not defined",
     "output_type": "error",
     "traceback": [
      "\u001b[1;31m---------------------------------------------------------------------------\u001b[0m",
      "\u001b[1;31mNameError\u001b[0m                                 Traceback (most recent call last)",
      "\u001b[1;32m<ipython-input-17-09a28fdfe69e>\u001b[0m in \u001b[0;36m<module>\u001b[1;34m()\u001b[0m\n\u001b[1;32m----> 1\u001b[1;33m \u001b[0mvalgrind\u001b[0m\u001b[1;33m\u001b[0m\u001b[0m\n\u001b[0m",
      "\u001b[1;31mNameError\u001b[0m: name 'valgrind' is not defined"
     ]
    }
   ],
   "source": [
    "valgrind"
   ]
  },
  {
   "cell_type": "code",
   "execution_count": 4,
   "metadata": {
    "collapsed": true
   },
   "outputs": [],
   "source": [
    "#trk: 1-3 | jet: 4-6  | \n",
    "emFrac = \"jet_AntiKt4LCTopo_emfrac\" #|0\n",
    "trkPt  = \"trk_pt\"                   #|1\n",
    "trkPhi = \"trk_phi_wrtPV\"            #|2\n",
    "trkEta = \"trk_eta\"                  #|3\n",
    "\n",
    "jetPt  = \"jet_AntiKt4LCTopo_pt\"     #|4\n",
    "jetPhi = \"jet_AntiKt4LCTopo_phi\"    #|5\n",
    "jetEta = \"jet_AntiKt4LCTopo_eta\"    #|6\n",
    "\n",
    "child  = \"mc_child_index\"           #|7\n",
    "pdgId  = \"mc_pdgId\"                 #|8\n",
    "vx_x   = \"mc_vx_x\"                  #|9\n",
    "vx_y   = \"mc_vx_y\"                  #|10\n",
    "mc_eta = \"mc_eta\"                   #|11\n",
    "mc_phi = \"mc_phi\"                   #|12\n",
    "#-----\n",
    "    \n",
    "branchNames = [ emFrac,\n",
    "trkPt  ,\n",
    "trkPhi ,\n",
    "trkEta ,\n",
    "jetPt  ,\n",
    "jetPhi ,\n",
    "jetEta ,\n",
    "child  ,\n",
    "pdgId  ,\n",
    "vx_x   ,\n",
    "vx_y   ,\n",
    "mc_eta ,\n",
    "mc_phi ]"
   ]
  },
  {
   "cell_type": "code",
   "execution_count": 5,
   "metadata": {
    "collapsed": false
   },
   "outputs": [],
   "source": [
    "def loader(loadChoice):\n",
    "\n",
    "    bkgFolderName = \"mc12_8TeV.147912.Pythia8_AU2CT10_jetjet_JZ2W.merge.NTUP_COMMON.e1126_s1469_s1470_r6262_p1575_tid05435083_00\"\n",
    "    bkgFilePath   = \"/phys/groups/tev/scratch4/users/gwatts/GRIDDS/{0}/{0}\".format(bkgFolderName)\n",
    "    bkgFileName   = \"NTUP_COMMON.05435083._*\"\n",
    "\n",
    "    sigFilePath = \"/phys/groups/tev/scratch3/users/HV/WHHV/ntup_001\"\n",
    "    #sigFileName = \"ntup_aod_*\"\n",
    "    sigFileName = \"ntup_aod_00_*\"\n",
    "    \n",
    "    sigFiles = \"{0}/{1}\".format(sigFilePath, sigFileName)\n",
    "    bkgFiles = \"{0}/{1}\".format(bkgFilePath, bkgFileName)\n",
    "\n",
    "    # Setup Arrays\n",
    "    if loadChoice.lower() == \"signal\":\n",
    "        global sigArray\n",
    "        sigArray = rnp.root2array( sigFiles, \"physics\", branchNames)\n",
    "        return sigArray\n",
    "    elif loadChoice.lower() == \"background\":\n",
    "        global bkgArray\n",
    "        bkgArray = rnp.root2array( bkgFiles, \"physics\", branchNames)\n",
    "        return bkgArray\n",
    "    else:\n",
    "        print \"No data type given, specify 'signal' or 'background' in arguments\"\n",
    "        sys.exit()"
   ]
  },
  {
   "cell_type": "code",
   "execution_count": 6,
   "metadata": {
    "collapsed": false
   },
   "outputs": [],
   "source": [
    "def vert_jetTrk(arrayIN):\n",
    "    #| trk: 1-3 | jet: 4-6  | \n",
    "    #| Jet Length > Trk Length\n",
    "    #| Calculate eventID, JetID, and restructure Jet data \n",
    "    #| Data is restructured to make each row a jet rather than event\n",
    "   \n",
    "    #| EventID array: event number for trk/jets\n",
    "    #| entry = same per event ; len = trk len\n",
    "    \n",
    "    #| jets are contained within Tracks\n",
    "    #| track tracklength is number of jets in event\n",
    "    \n",
    "    #| JetID array: track number in event (i.e. event 1 - track 5)\n",
    "    #| entry = 1 to trk len ; len = trk len\n",
    "    \n",
    "    #| Jet arrays: get event data, resize to match trk length\n",
    "    #|  arbitrarily set values of resized jet arrays to < -500 >\n",
    "    \n",
    "    eventID = jetID = jetPt = jetPhi = jetEta = emfrac = np.zeros(1)\n",
    "    count = 0\n",
    "    for trkEv, jetptEv, jetphiEv, jetetaEv, emfracEv in itertools.izip_longest(arrayIN[branchNames[1]], arrayIN[branchNames[4]], \n",
    "                                                                               arrayIN[branchNames[5]], arrayIN[branchNames[6]], \n",
    "                                                                               arrayIN[branchNames[0]] ):\n",
    "        \n",
    "        #all var of same class(jet/track) have same length\n",
    "        trklen = len(trkEv)\n",
    "        jetlen = len(jetptEv)\n",
    "        #Ignore any events with no trks\n",
    "        if trklen != 0:\n",
    "            #Make jet arrays match trk array length\n",
    "            emfracEv = np.resize(emfracEv, (1,trklen))\n",
    "            jetptEv  = np.resize(jetptEv , (1,trklen))\n",
    "            jetphiEv = np.resize(jetphiEv, (1,trklen))\n",
    "            jetetaEv = np.resize(jetetaEv, (1,trklen))\n",
    "\n",
    "            #set extra spaces to arbitrary value\n",
    "            jetptEv[0][jetlen:] = jetphiEv[0][jetlen:] = jetetaEv[0][jetlen:]  = emfracEv[0][jetlen:] = -500\n",
    "            #print jetptEv[0]\n",
    "            emfrac = np.append(emfrac, emfracEv)\n",
    "            jetPt  = np.append(jetPt , jetptEv )\n",
    "            jetPhi = np.append(jetPhi, jetphiEv)\n",
    "            jetEta = np.append(jetEta, jetetaEv)\n",
    "\n",
    "            eventID = np.append(eventID, [count]*trklen)\n",
    "            jetID   = np.append(jetID, np.arange(1, trklen+1))\n",
    "            count += 1\n",
    "            #del trkEv, jetphiEv, jetptEv, jetetaEv, emfracEv\n",
    "    \n",
    "    #remove initial blank entry\n",
    "    eventID = np.delete(eventID, 0)\n",
    "    emfrac  = np.delete(emfrac , 0)\n",
    "    jetID   = np.delete(jetID  , 0)\n",
    "    jetPt   = np.delete(jetPt  , 0)\n",
    "    jetPhi  = np.delete(jetPhi , 0)\n",
    "    jetEta  = np.delete(jetEta , 0)\n",
    "    \n",
    "    #Orient arrays as columns\n",
    "    emfrac = emfrac[None].T\n",
    "    jetPt  = jetPt [None].T\n",
    "    jetPhi = jetPhi[None].T\n",
    "    jetEta = jetEta[None].T\n",
    "    trkPt  = np.hstack( arrayIN[branchNames[1] ] )[None].T\n",
    "    trkPhi = np.hstack( arrayIN[branchNames[2] ] )[None].T \n",
    "    trkEta = np.hstack( arrayIN[branchNames[3] ] )[None].T\n",
    "    \n",
    "    eventID = eventID[None].T\n",
    "    jetID   = jetID[None].T\n",
    "    \n",
    "    data = np.column_stack([eventID, jetID, emfrac, jetPt, jetEta, jetPhi, trkPt, trkPhi, trkEta])\n",
    "    arrayInfo(data)\n",
    "    \n",
    "    del eventID, jetID, trkPt, trkPhi, trkEta, jetPt, jetEta, jetPhi, emfrac\n",
    "    return data\n",
    "\n",
    "def vert_mcdata(arrayIN):  \n",
    "    child  = np.hstack( arrayIN[ branchNames[7] ] )[None].T\n",
    "    pdgId  = np.hstack( arrayIN[ branchNames[8] ] )[None].T \n",
    "    vxX    = np.hstack( arrayIN[ branchNames[9] ] )[None].T  \n",
    "    vxY    = np.hstack( arrayIN[ branchNames[10]] )[None].T  \n",
    "    mc_eta = np.hstack( arrayIN[ branchNames[11]] )[None].T  \n",
    "    mc_phi = np.hstack( arrayIN[ branchNames[12]] )[None].T \n",
    "    \n",
    "    data = np.column_stack([child, pdgId, vxX, vxY, mc_eta, mc_phi])\n",
    "    arrayInfo(data)\n",
    "    \n",
    "    del child, pdgId, vxX, vxY, mc_eta, mc_phi\n",
    "    return data\n",
    "\n",
    "def locateHiggsEvents(arrayIN):\n",
    "    #| Return array of rows containing Higgs events (id 36)\n",
    "    higgsRows = np.where(arrayIN[: , 1] == 36)[0]\n",
    "    #| Replace with only rows containing Higgs events\n",
    "    arrayIN = arrayIN[higgsRows]\n",
    "    return arrayIN\n",
    "\n",
    "#######\n",
    "\n",
    "def arrayInfo(tempArray):\n",
    "    print tempArray.dtype\n",
    "    print type(tempArray)\n",
    "    print \"shape: {0}\".format(tempArray.shape) \n",
    "    print \"entries: {0}\\n\".format(tempArray.size) \n",
    "    \n",
    "def signalTChain():\n",
    "    f = ROOT.TChain(\"physics\")\n",
    "    f.Add(\"/phys/groups/tev/scratch3/users/HV/WHHV/ntup_001/ntup_aod_00_1_50.root\")\n",
    "    for i in range(1,5):\n",
    "        f1.Add(\"/phys/groups/tev/scratch3/users/HV/WHHV/ntup_001/ntup_aod_00_{0}*.root\".format(i))\n",
    "    return f1\n",
    "def signalScan():\n",
    "    scan = \"{0}\".format(branchNames[0])\n",
    "    for i in branchNames[1:-1]:\n",
    "        scan += \":{0}\".format(i)\n",
    "    scan += \":{0}\".format(branchNames[12])\n",
    "    "
   ]
  },
  {
   "cell_type": "code",
   "execution_count": 7,
   "metadata": {
    "collapsed": false
   },
   "outputs": [],
   "source": [
    "def radiusCheck(jdata, mc_data, mc_data_hig):\n",
    "    count = 0\n",
    "    l = np.amax(jdata[:,0])\n",
    "    l = l.astype(int)\n",
    "    for i in range(l):\n",
    "        eventID = np.where(jdata[:, 0] == i)\n",
    "        jeta = jdata[eventID, 4][0]\n",
    "        jphi = jdata[eventID, 5][0]\n",
    "        for jEta, jPhi in zip(jeta, jphi):\n",
    "            if jEta != -500 and jPhi != -500:\n",
    "                #print jEta, jPhi\n",
    "                deltaEta = mc_data_hig[eventID, 4] - jEta \n",
    "                deltaPhi = mc_data_hig[eventID, 5] - jPhi\n",
    "                deltaR   = np.square(deltaEta) + np.square(deltaPhi)\n",
    "                #print deltaR\n",
    "                check = np.where(deltaR[0] <= .2)\n",
    "                count += 1\n",
    "                if count % 500 == 0:\n",
    "                    print check[0]\n",
    "                #print count, deltaR[check]"
   ]
  },
  {
   "cell_type": "code",
   "execution_count": 18,
   "metadata": {
    "collapsed": false
   },
   "outputs": [
    {
     "ename": "NameError",
     "evalue": "name 'jetdata' is not defined",
     "output_type": "error",
     "traceback": [
      "\u001b[1;31m---------------------------------------------------------------------------\u001b[0m",
      "\u001b[1;31mNameError\u001b[0m                                 Traceback (most recent call last)",
      "\u001b[1;32m<ipython-input-18-7aa2c94a67d5>\u001b[0m in \u001b[0;36m<module>\u001b[1;34m()\u001b[0m\n\u001b[1;32m----> 1\u001b[1;33m \u001b[0mradiusCheck\u001b[0m\u001b[1;33m(\u001b[0m\u001b[0mjetdata\u001b[0m\u001b[1;33m,\u001b[0m\u001b[0mmcdata\u001b[0m\u001b[1;33m,\u001b[0m \u001b[0mhiggsP\u001b[0m\u001b[1;33m)\u001b[0m\u001b[1;33m\u001b[0m\u001b[0m\n\u001b[0m",
      "\u001b[1;31mNameError\u001b[0m: name 'jetdata' is not defined"
     ]
    }
   ],
   "source": [
    "radiusCheck(jetdata,mcdata, higgsP)"
   ]
  },
  {
   "cell_type": "code",
   "execution_count": null,
   "metadata": {
    "collapsed": true
   },
   "outputs": [],
   "source": [
    "def calRatio():"
   ]
  },
  {
   "cell_type": "code",
   "execution_count": null,
   "metadata": {
    "collapsed": true
   },
   "outputs": [],
   "source": [
    "def countTrack():"
   ]
  },
  {
   "cell_type": "code",
   "execution_count": null,
   "metadata": {
    "collapsed": false
   },
   "outputs": [],
   "source": [
    "def higgsChildren(higgsA, jetA, mcdataA):\n",
    "    higgsChildRows = np.hstack( higgsA[:,0] )\n",
    "    childP_j = jetA[ higgsChildRows ]\n",
    "    childP_mc = mcdataA[ higgsChildRows ]\n",
    "    higChild = np.column_stack([ childP_j, childP_mc ])\n",
    "    return higChild"
   ]
  },
  {
   "cell_type": "code",
   "execution_count": null,
   "metadata": {
    "collapsed": true
   },
   "outputs": [],
   "source": []
  },
  {
   "cell_type": "code",
   "execution_count": 22,
   "metadata": {
    "collapsed": false
   },
   "outputs": [],
   "source": [
    "def main():\n",
    "    sigArray = hv.loader(\"signal\")\n",
    "    jetdata  = vert_jetTrk(sigArray)\n",
    "    mcdata   = vert_mcdata(sigArray)\n",
    "    mcdata_hig = locateHiggsEvents(mcdata)\n",
    "    print mcdata_hig\n",
    "    #higChild = higgsChildren(higgs_mcdata, jetdata, mcdata)"
   ]
  },
  {
   "cell_type": "code",
   "execution_count": null,
   "metadata": {
    "collapsed": true
   },
   "outputs": [],
   "source": [
    "p"
   ]
  },
  {
   "cell_type": "code",
   "execution_count": 23,
   "metadata": {
    "collapsed": false,
    "scrolled": true
   },
   "outputs": [
    {
     "name": "stdout",
     "output_type": "stream",
     "text": [
      "float64\n",
      "<type 'numpy.ndarray'>\n",
      "shape: (203640, 9)\n",
      "entries: 1832760\n",
      "\n",
      "object\n",
      "<type 'numpy.ndarray'>\n",
      "shape: (6328372, 6)\n",
      "entries: 37970232\n",
      "\n",
      "[[array([118, 119], dtype=int32) 36 0.08018578588962555 1.1115773916244507 -2.502485752105713\n",
      "  2.314896821975708]\n",
      " [array([120, 121], dtype=int32) 36 0.08018578588962555 1.1115773916244507 -2.822516918182373\n",
      "  -1.628440260887146]\n",
      " [array([697, 698], dtype=int32) 36 0.07148713618516922 1.113144040107727 -0.0334453359246254\n",
      "  -1.5927108526229858]\n",
      " ..., \n",
      " [array([171, 172], dtype=int32) 36 0.03184041753411293 1.1201077699661255 -0.8341189622879028\n",
      "  1.7432770729064941]\n",
      " [array([676, 677], dtype=int32) 36 0.13462238013744354 1.0535780191421509 -2.750379800796509\n",
      "  0.5363646149635315]\n",
      " [array([678, 679], dtype=int32) 36 0.13462238013744354 1.0535780191421509 -1.8100703954696655\n",
      "  -2.087846517562866]]\n"
     ]
    }
   ],
   "source": [
    "main()"
   ]
  },
  {
   "cell_type": "code",
   "execution_count": 8,
   "metadata": {
    "collapsed": true
   },
   "outputs": [],
   "source": [
    "sigArray = hv.loader(\"signal\")"
   ]
  },
  {
   "cell_type": "code",
   "execution_count": 14,
   "metadata": {
    "collapsed": false,
    "scrolled": true
   },
   "outputs": [
    {
     "name": "stdout",
     "output_type": "stream",
     "text": [
      "float64\n",
      "<type 'numpy.ndarray'>\n",
      "shape: (203640, 9)\n",
      "entries: 1832760\n",
      "\n",
      "object\n",
      "<type 'numpy.ndarray'>\n",
      "shape: (6328372, 6)\n",
      "entries: 37970232\n",
      "\n",
      "float64\n",
      "<type 'numpy.ndarray'>\n",
      "shape: (203640, 9)\n",
      "entries: 1832760\n",
      "\n",
      "object\n",
      "<type 'numpy.ndarray'>\n",
      "shape: (6328372, 6)\n",
      "entries: 37970232\n",
      "\n",
      "float64\n",
      "<type 'numpy.ndarray'>\n",
      "shape: (203640, 9)\n",
      "entries: 1832760\n",
      "\n",
      "object\n",
      "<type 'numpy.ndarray'>\n",
      "shape: (6328372, 6)\n",
      "entries: 37970232\n",
      "\n",
      "float64\n",
      "<type 'numpy.ndarray'>\n",
      "shape: (203640, 9)\n",
      "entries: 1832760\n",
      "\n",
      "object\n",
      "<type 'numpy.ndarray'>\n",
      "shape: (6328372, 6)\n",
      "entries: 37970232\n",
      "\n",
      "1 loop, best of 3: 6.17 s per loop\n"
     ]
    }
   ],
   "source": [
    "%%timeit\n",
    "jetdata  = vert_jetTrk(sigArray)\n",
    "mcdata   = vert_mcdata(sigArray)\n",
    "higgsP   = locateHiggsEvents(mcdata)"
   ]
  },
  {
   "cell_type": "code",
   "execution_count": 15,
   "metadata": {
    "collapsed": false
   },
   "outputs": [
    {
     "ename": "NameError",
     "evalue": "name 'mcdata' is not defined",
     "output_type": "error",
     "traceback": [
      "\u001b[1;31m---------------------------------------------------------------------------\u001b[0m",
      "\u001b[1;31mNameError\u001b[0m                                 Traceback (most recent call last)",
      "\u001b[1;32m<ipython-input-15-c97e3e0375fa>\u001b[0m in \u001b[0;36m<module>\u001b[1;34m()\u001b[0m\n\u001b[1;32m----> 1\u001b[1;33m \u001b[0mchildP\u001b[0m \u001b[1;33m=\u001b[0m \u001b[0mnp\u001b[0m\u001b[1;33m.\u001b[0m\u001b[0mhstack\u001b[0m\u001b[1;33m(\u001b[0m \u001b[0mlocateHiggsEvents\u001b[0m\u001b[1;33m(\u001b[0m\u001b[0mmcdata\u001b[0m\u001b[1;33m)\u001b[0m\u001b[1;33m[\u001b[0m\u001b[1;33m:\u001b[0m\u001b[1;33m,\u001b[0m \u001b[1;36m0\u001b[0m\u001b[1;33m]\u001b[0m \u001b[1;33m)\u001b[0m\u001b[1;33m\u001b[0m\u001b[0m\n\u001b[0m\u001b[0;32m      2\u001b[0m \u001b[1;32mprint\u001b[0m \u001b[0mchildP\u001b[0m\u001b[1;33m\u001b[0m\u001b[0m\n",
      "\u001b[1;31mNameError\u001b[0m: name 'mcdata' is not defined"
     ]
    }
   ],
   "source": [
    "childP = np.hstack( locateHiggsEvents(mcdata)[:, 0] )\n",
    "print childP"
   ]
  },
  {
   "cell_type": "code",
   "execution_count": null,
   "metadata": {
    "collapsed": false,
    "scrolled": false
   },
   "outputs": [],
   "source": [
    "print mcdata[:, 0]\n",
    "print \n",
    "print \"---------\" \n",
    "print\n",
    "print locateHiggsEvents(mcdata).shape\n"
   ]
  },
  {
   "cell_type": "code",
   "execution_count": null,
   "metadata": {
    "collapsed": false
   },
   "outputs": [],
   "source": [
    "orignallen = len(jetdata)\n",
    "higgsCut = len()\n",
    "cutFlow = { 'Start' : orignallen,  }\n",
    "print cutFlow['Start']"
   ]
  },
  {
   "cell_type": "code",
   "execution_count": null,
   "metadata": {
    "collapsed": false
   },
   "outputs": [],
   "source": [
    "print higgsP"
   ]
  },
  {
   "cell_type": "code",
   "execution_count": null,
   "metadata": {
    "collapsed": false
   },
   "outputs": [],
   "source": [
    "print jetdata[50:80, 4]"
   ]
  },
  {
   "cell_type": "code",
   "execution_count": 19,
   "metadata": {
    "collapsed": false
   },
   "outputs": [
    {
     "ename": "NameError",
     "evalue": "name 'jetdata' is not defined",
     "output_type": "error",
     "traceback": [
      "\u001b[1;31m---------------------------------------------------------------------------\u001b[0m",
      "\u001b[1;31mNameError\u001b[0m                                 Traceback (most recent call last)",
      "\u001b[1;32m<ipython-input-19-d8c3004d9ce4>\u001b[0m in \u001b[0;36m<module>\u001b[1;34m()\u001b[0m\n\u001b[1;32m----> 1\u001b[1;33m \u001b[0ma\u001b[0m \u001b[1;33m=\u001b[0m \u001b[0mnp\u001b[0m\u001b[1;33m.\u001b[0m\u001b[0mwhere\u001b[0m\u001b[1;33m(\u001b[0m\u001b[0mjetdata\u001b[0m\u001b[1;33m[\u001b[0m\u001b[1;33m:\u001b[0m\u001b[1;33m,\u001b[0m \u001b[1;36m0\u001b[0m\u001b[1;33m]\u001b[0m \u001b[1;33m==\u001b[0m \u001b[1;36m2\u001b[0m\u001b[1;33m)\u001b[0m\u001b[1;33m\u001b[0m\u001b[0m\n\u001b[0m\u001b[0;32m      2\u001b[0m \u001b[0mjetdata\u001b[0m\u001b[1;33m[\u001b[0m\u001b[0ma\u001b[0m\u001b[1;33m,\u001b[0m \u001b[1;36m5\u001b[0m\u001b[1;33m]\u001b[0m\u001b[1;33m\u001b[0m\u001b[0m\n",
      "\u001b[1;31mNameError\u001b[0m: name 'jetdata' is not defined"
     ]
    }
   ],
   "source": [
    "a = np.where(jetdata[:, 0] == 2)\n",
    "jetdata[a, 5]"
   ]
  },
  {
   "cell_type": "code",
   "execution_count": null,
   "metadata": {
    "collapsed": true
   },
   "outputs": [],
   "source": []
  }
 ],
 "metadata": {
  "kernelspec": {
   "display_name": "Python 2",
   "language": "python",
   "name": "python2"
  },
  "language_info": {
   "codemirror_mode": {
    "name": "ipython",
    "version": 2
   },
   "file_extension": ".py",
   "mimetype": "text/x-python",
   "name": "python",
   "nbconvert_exporter": "python",
   "pygments_lexer": "ipython2",
   "version": "2.7.11"
  }
 },
 "nbformat": 4,
 "nbformat_minor": 0
}
